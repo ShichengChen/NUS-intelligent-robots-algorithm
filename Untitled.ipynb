{
 "cells": [
  {
   "cell_type": "code",
   "execution_count": 1,
   "metadata": {
    "ExecuteTime": {
     "end_time": "2020-04-27T07:33:03.028711Z",
     "start_time": "2020-04-27T07:33:02.872060Z"
    }
   },
   "outputs": [],
   "source": [
    "import numpy as np"
   ]
  },
  {
   "cell_type": "code",
   "execution_count": 18,
   "metadata": {
    "ExecuteTime": {
     "end_time": "2020-04-27T10:54:40.483070Z",
     "start_time": "2020-04-27T10:54:40.479533Z"
    }
   },
   "outputs": [
    {
     "data": {
      "text/plain": [
       "6.399999999999997"
      ]
     },
     "execution_count": 18,
     "metadata": {},
     "output_type": "execute_result"
    }
   ],
   "source": [
    "ans=0\n",
    "a=0.08602150537634408\n",
    "for i in range(1000):\n",
    "    ans+=20*a*((1-a)*0.8)**i\n",
    "ans"
   ]
  },
  {
   "cell_type": "code",
   "execution_count": 14,
   "metadata": {
    "ExecuteTime": {
     "end_time": "2020-04-27T10:54:10.816050Z",
     "start_time": "2020-04-27T10:54:10.813236Z"
    }
   },
   "outputs": [
    {
     "data": {
      "text/plain": [
       "5.120000000000001"
      ]
     },
     "execution_count": 14,
     "metadata": {},
     "output_type": "execute_result"
    }
   ],
   "source": []
  },
  {
   "cell_type": "code",
   "execution_count": 12,
   "metadata": {
    "ExecuteTime": {
     "end_time": "2020-04-27T10:46:25.876069Z",
     "start_time": "2020-04-27T10:46:25.873278Z"
    }
   },
   "outputs": [
    {
     "data": {
      "text/plain": [
       "5.000000000000001"
      ]
     },
     "execution_count": 12,
     "metadata": {},
     "output_type": "execute_result"
    }
   ],
   "source": [
    "ans=0\n",
    "for i in range(1000):\n",
    "    ans+=((1)*0.8)**i\n",
    "ans"
   ]
  },
  {
   "cell_type": "code",
   "execution_count": 21,
   "metadata": {
    "ExecuteTime": {
     "end_time": "2020-04-27T14:19:51.300866Z",
     "start_time": "2020-04-27T14:19:51.298225Z"
    }
   },
   "outputs": [
    {
     "data": {
      "text/plain": [
       "0.9697986577181208"
      ]
     },
     "execution_count": 21,
     "metadata": {},
     "output_type": "execute_result"
    }
   ],
   "source": [
    "a=0.85**2+0.15**2\n",
    "0.85**2/a"
   ]
  }
 ],
 "metadata": {
  "kernelspec": {
   "display_name": "Python 3",
   "language": "python",
   "name": "python3"
  },
  "language_info": {
   "codemirror_mode": {
    "name": "ipython",
    "version": 3
   },
   "file_extension": ".py",
   "mimetype": "text/x-python",
   "name": "python",
   "nbconvert_exporter": "python",
   "pygments_lexer": "ipython3",
   "version": "3.6.10"
  }
 },
 "nbformat": 4,
 "nbformat_minor": 2
}
